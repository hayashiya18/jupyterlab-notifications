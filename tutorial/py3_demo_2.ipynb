{
 "cells": [
  {
   "cell_type": "code",
   "execution_count": 17,
   "id": "204ae670-e103-43a8-ad4b-683acb777fa2",
   "metadata": {
    "execution": {
     "iopub.execute_input": "2021-07-26T02:25:17.832538Z",
     "iopub.status.busy": "2021-07-26T02:25:17.832281Z",
     "iopub.status.idle": "2021-07-26T02:25:19.961884Z",
     "shell.execute_reply": "2021-07-26T02:25:19.961025Z",
     "shell.execute_reply.started": "2021-07-26T02:25:17.832508Z"
    },
    "tags": []
   },
   "outputs": [
    {
     "name": "stdout",
     "output_type": "stream",
     "text": [
      "hello from notebook 2\n"
     ]
    }
   ],
   "source": [
    "!sleep 2\n",
    "print(\"hello from notebook 2\")"
   ]
  },
  {
   "cell_type": "code",
   "execution_count": 18,
   "id": "3ed687e7-e95c-4152-b4fe-105bbd2baab7",
   "metadata": {
    "execution": {
     "iopub.execute_input": "2021-07-26T02:25:23.469719Z",
     "iopub.status.busy": "2021-07-26T02:25:23.469509Z",
     "iopub.status.idle": "2021-07-26T02:25:25.595772Z",
     "shell.execute_reply": "2021-07-26T02:25:25.594884Z",
     "shell.execute_reply.started": "2021-07-26T02:25:23.469693Z"
    },
    "tags": []
   },
   "outputs": [
    {
     "name": "stdout",
     "output_type": "stream",
     "text": [
      "hello from notebook 2: cell 1\n"
     ]
    }
   ],
   "source": [
    "!sleep 2\n",
    "print(\"hello from notebook 2: cell 1\")"
   ]
  },
  {
   "cell_type": "code",
   "execution_count": null,
   "id": "a84d63a4-bb8e-4d17-bcc6-dd6c9395f6f6",
   "metadata": {},
   "outputs": [],
   "source": []
  }
 ],
 "metadata": {
  "kernelspec": {
   "display_name": "Python 3",
   "language": "python",
   "name": "python3"
  },
  "language_info": {
   "codemirror_mode": {
    "name": "ipython",
    "version": 3
   },
   "file_extension": ".py",
   "mimetype": "text/x-python",
   "name": "python",
   "nbconvert_exporter": "python",
   "pygments_lexer": "ipython3",
   "version": "3.7.10"
  }
 },
 "nbformat": 4,
 "nbformat_minor": 5
}
