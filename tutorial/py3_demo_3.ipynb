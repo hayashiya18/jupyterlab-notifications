{
 "cells": [
  {
   "cell_type": "code",
   "execution_count": 7,
   "id": "bcdd95ec-1792-4e0e-b590-bf07cb150ce1",
   "metadata": {
    "execution": {
     "iopub.execute_input": "2021-07-26T02:25:20.354141Z",
     "iopub.status.busy": "2021-07-26T02:25:20.353849Z",
     "iopub.status.idle": "2021-07-26T02:25:23.476677Z",
     "shell.execute_reply": "2021-07-26T02:25:23.475669Z",
     "shell.execute_reply.started": "2021-07-26T02:25:20.354100Z"
    },
    "tags": []
   },
   "outputs": [
    {
     "name": "stdout",
     "output_type": "stream",
     "text": [
      "hello from notebook 3\n"
     ]
    }
   ],
   "source": [
    "!sleep 3\n",
    "print(\"hello from notebook 3\")"
   ]
  },
  {
   "cell_type": "code",
   "execution_count": null,
   "id": "43c898c3-bd6b-4451-a1dd-5834b5f9fa49",
   "metadata": {},
   "outputs": [],
   "source": []
  },
  {
   "cell_type": "code",
   "execution_count": null,
   "id": "77346921-725a-4918-a401-a86be734d3cd",
   "metadata": {},
   "outputs": [],
   "source": []
  }
 ],
 "metadata": {
  "kernelspec": {
   "display_name": "Python 3",
   "language": "python",
   "name": "python3"
  },
  "language_info": {
   "codemirror_mode": {
    "name": "ipython",
    "version": 3
   },
   "file_extension": ".py",
   "mimetype": "text/x-python",
   "name": "python",
   "nbconvert_exporter": "python",
   "pygments_lexer": "ipython3",
   "version": "3.7.10"
  }
 },
 "nbformat": 4,
 "nbformat_minor": 5
}
