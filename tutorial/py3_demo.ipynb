{
 "cells": [
  {
   "cell_type": "code",
   "execution_count": 1,
   "metadata": {
    "execution": {
     "iopub.execute_input": "2021-07-11T17:15:55.393544Z",
     "iopub.status.busy": "2021-07-11T17:15:55.393252Z",
     "iopub.status.idle": "2021-07-11T17:15:55.401945Z",
     "shell.execute_reply": "2021-07-11T17:15:55.401108Z",
     "shell.execute_reply.started": "2021-07-11T17:15:55.393469Z"
    },
    "status": "ok",
    "tags": []
   },
   "outputs": [
    {
     "name": "stdout",
     "output_type": "stream",
     "text": [
      "hello world!\n"
     ]
    }
   ],
   "source": [
    "print(\"hello world!\")"
   ]
  },
  {
   "cell_type": "code",
   "execution_count": null,
   "metadata": {
    "execution": {
     "iopub.execute_input": "2021-07-11T17:31:43.432955Z",
     "iopub.status.busy": "2021-07-11T17:31:43.432660Z"
    },
    "status": "ok",
    "tags": []
   },
   "outputs": [],
   "source": [
    "!sleep 66\n",
    "print(\"hello world!\")"
   ]
  },
  {
   "cell_type": "code",
   "execution_count": null,
   "metadata": {
    "execution": {
     "iopub.execute_input": "2021-07-18T18:59:57.714531Z",
     "iopub.status.busy": "2021-07-18T18:59:57.714309Z"
    },
    "tags": []
   },
   "outputs": [
    {
     "ename": "Exception",
     "evalue": "hello world!",
     "output_type": "error",
     "traceback": [
      "\u001b[0;31m---------------------------------------------------------------------------\u001b[0m",
      "\u001b[0;31mException\u001b[0m                                 Traceback (most recent call last)",
      "\u001b[0;32m<ipython-input-2-d820d165a50b>\u001b[0m in \u001b[0;36m<module>\u001b[0;34m\u001b[0m\n\u001b[1;32m      1\u001b[0m \u001b[0mget_ipython\u001b[0m\u001b[0;34m(\u001b[0m\u001b[0;34m)\u001b[0m\u001b[0;34m.\u001b[0m\u001b[0msystem\u001b[0m\u001b[0;34m(\u001b[0m\u001b[0;34m'sleep 3'\u001b[0m\u001b[0;34m)\u001b[0m\u001b[0;34m\u001b[0m\u001b[0;34m\u001b[0m\u001b[0m\n\u001b[0;32m----> 2\u001b[0;31m \u001b[0;32mraise\u001b[0m \u001b[0mException\u001b[0m\u001b[0;34m(\u001b[0m\u001b[0;34m'hello world!'\u001b[0m\u001b[0;34m)\u001b[0m\u001b[0;34m\u001b[0m\u001b[0;34m\u001b[0m\u001b[0m\n\u001b[0m",
      "\u001b[0;31mException\u001b[0m: hello world!"
     ]
    }
   ],
   "source": [
    "!sleep 3\n",
    "raise Exception('hello world!')"
   ]
  },
  {
   "cell_type": "markdown",
   "metadata": {
    "tags": []
   },
   "source": [
    "## Hello World"
   ]
  },
  {
   "cell_type": "raw",
   "metadata": {
    "execution": {
     "iopub.execute_input": "2021-03-27T02:29:48.597351Z",
     "iopub.status.busy": "2021-03-27T02:29:48.597122Z",
     "iopub.status.idle": "2021-03-27T02:29:48.602494Z",
     "shell.execute_reply": "2021-03-27T02:29:48.600860Z",
     "shell.execute_reply.started": "2021-03-27T02:29:48.597324Z"
    }
   },
   "source": [
    "Hello World"
   ]
  },
  {
   "cell_type": "code",
   "execution_count": null,
   "metadata": {},
   "outputs": [],
   "source": []
  }
 ],
 "metadata": {
  "kernelspec": {
   "display_name": "Python 3",
   "language": "python",
   "name": "python3"
  },
  "language_info": {
   "codemirror_mode": {
    "name": "ipython",
    "version": 3
   },
   "file_extension": ".py",
   "mimetype": "text/x-python",
   "name": "python",
   "nbconvert_exporter": "python",
   "pygments_lexer": "ipython3",
   "version": "3.7.10"
  }
 },
 "nbformat": 4,
 "nbformat_minor": 4
}
