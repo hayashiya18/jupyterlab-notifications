{
 "cells": [
  {
   "cell_type": "code",
   "execution_count": 143,
   "metadata": {
    "execution": {
     "iopub.execute_input": "2021-07-26T02:25:15.792618Z",
     "iopub.status.busy": "2021-07-26T02:25:15.792309Z",
     "iopub.status.idle": "2021-07-26T02:25:26.923099Z",
     "shell.execute_reply": "2021-07-26T02:25:26.922160Z",
     "shell.execute_reply.started": "2021-07-26T02:25:15.792579Z"
    },
    "status": "ok",
    "tags": []
   },
   "outputs": [
    {
     "name": "stdout",
     "output_type": "stream",
     "text": [
      "hello world!\n"
     ]
    }
   ],
   "source": [
    "!sleep 11\n",
    "print(\"hello world!\")"
   ]
  },
  {
   "cell_type": "code",
   "execution_count": 142,
   "metadata": {
    "execution": {
     "iopub.execute_input": "2021-07-26T02:23:54.629936Z",
     "iopub.status.busy": "2021-07-26T02:23:54.629690Z",
     "iopub.status.idle": "2021-07-26T02:25:00.767228Z",
     "shell.execute_reply": "2021-07-26T02:25:00.765983Z",
     "shell.execute_reply.started": "2021-07-26T02:23:54.629905Z"
    },
    "status": "ok",
    "tags": []
   },
   "outputs": [
    {
     "name": "stdout",
     "output_type": "stream",
     "text": [
      "hello world!\n"
     ]
    }
   ],
   "source": [
    "!sleep 1\n",
    "print(\"hello world!\")"
   ]
  },
  {
   "cell_type": "code",
   "execution_count": 62,
   "metadata": {
    "execution": {
     "iopub.execute_input": "2021-07-18T19:49:34.088207Z",
     "iopub.status.busy": "2021-07-18T19:49:34.087802Z",
     "iopub.status.idle": "2021-07-18T19:49:36.219369Z",
     "shell.execute_reply": "2021-07-18T19:49:36.218766Z",
     "shell.execute_reply.started": "2021-07-18T19:49:34.088134Z"
    },
    "tags": []
   },
   "outputs": [
    {
     "name": "stdout",
     "output_type": "stream",
     "text": [
      "hello world again!\n"
     ]
    }
   ],
   "source": [
    "!sleep 2\n",
    "print(\"hello world again!\")"
   ]
  },
  {
   "cell_type": "code",
   "execution_count": 63,
   "metadata": {
    "execution": {
     "iopub.execute_input": "2021-07-18T19:49:36.221581Z",
     "iopub.status.busy": "2021-07-18T19:49:36.221322Z",
     "iopub.status.idle": "2021-07-18T19:49:41.353081Z",
     "shell.execute_reply": "2021-07-18T19:49:41.352358Z",
     "shell.execute_reply.started": "2021-07-18T19:49:36.221557Z"
    },
    "tags": []
   },
   "outputs": [
    {
     "name": "stdout",
     "output_type": "stream",
     "text": [
      "bye world!\n"
     ]
    }
   ],
   "source": [
    "!sleep 5\n",
    "print(\"bye world!\")"
   ]
  },
  {
   "cell_type": "code",
   "execution_count": 40,
   "metadata": {
    "execution": {
     "iopub.execute_input": "2021-07-18T19:41:58.007998Z",
     "iopub.status.busy": "2021-07-18T19:41:58.007728Z",
     "iopub.status.idle": "2021-07-18T19:42:01.145486Z",
     "shell.execute_reply": "2021-07-18T19:42:01.144436Z",
     "shell.execute_reply.started": "2021-07-18T19:41:58.007971Z"
    },
    "tags": []
   },
   "outputs": [
    {
     "ename": "Exception",
     "evalue": "hello world!",
     "output_type": "error",
     "traceback": [
      "\u001b[0;31m---------------------------------------------------------------------------\u001b[0m",
      "\u001b[0;31mException\u001b[0m                                 Traceback (most recent call last)",
      "\u001b[0;32m<ipython-input-40-d820d165a50b>\u001b[0m in \u001b[0;36m<module>\u001b[0;34m\u001b[0m\n\u001b[1;32m      1\u001b[0m \u001b[0mget_ipython\u001b[0m\u001b[0;34m(\u001b[0m\u001b[0;34m)\u001b[0m\u001b[0;34m.\u001b[0m\u001b[0msystem\u001b[0m\u001b[0;34m(\u001b[0m\u001b[0;34m'sleep 3'\u001b[0m\u001b[0;34m)\u001b[0m\u001b[0;34m\u001b[0m\u001b[0;34m\u001b[0m\u001b[0m\n\u001b[0;32m----> 2\u001b[0;31m \u001b[0;32mraise\u001b[0m \u001b[0mException\u001b[0m\u001b[0;34m(\u001b[0m\u001b[0;34m'hello world!'\u001b[0m\u001b[0;34m)\u001b[0m\u001b[0;34m\u001b[0m\u001b[0;34m\u001b[0m\u001b[0m\n\u001b[0m",
      "\u001b[0;31mException\u001b[0m: hello world!"
     ]
    }
   ],
   "source": [
    "!sleep 3\n",
    "raise Exception('hello world!')"
   ]
  },
  {
   "cell_type": "code",
   "execution_count": 138,
   "metadata": {
    "execution": {
     "iopub.execute_input": "2021-07-26T02:15:24.129175Z",
     "iopub.status.busy": "2021-07-26T02:15:24.128902Z",
     "iopub.status.idle": "2021-07-26T02:15:28.256314Z",
     "shell.execute_reply": "2021-07-26T02:15:28.255193Z",
     "shell.execute_reply.started": "2021-07-26T02:15:24.129139Z"
    },
    "tags": []
   },
   "outputs": [
    {
     "name": "stdout",
     "output_type": "stream",
     "text": [
      "hola!\n"
     ]
    }
   ],
   "source": [
    "!sleep 4\n",
    "print(\"hola!\")"
   ]
  },
  {
   "cell_type": "code",
   "execution_count": 139,
   "metadata": {
    "execution": {
     "iopub.execute_input": "2021-07-26T02:15:28.258778Z",
     "iopub.status.busy": "2021-07-26T02:15:28.258381Z",
     "iopub.status.idle": "2021-07-26T02:15:30.389469Z",
     "shell.execute_reply": "2021-07-26T02:15:30.388524Z",
     "shell.execute_reply.started": "2021-07-26T02:15:28.258744Z"
    },
    "tags": []
   },
   "outputs": [
    {
     "name": "stdout",
     "output_type": "stream",
     "text": [
      "bonjour!\n"
     ]
    }
   ],
   "source": [
    "!sleep 2\n",
    "print(\"bonjour!\")"
   ]
  },
  {
   "cell_type": "code",
   "execution_count": 140,
   "metadata": {
    "execution": {
     "iopub.execute_input": "2021-07-26T02:15:30.391586Z",
     "iopub.status.busy": "2021-07-26T02:15:30.391285Z",
     "iopub.status.idle": "2021-07-26T02:15:33.519909Z",
     "shell.execute_reply": "2021-07-26T02:15:33.518958Z",
     "shell.execute_reply.started": "2021-07-26T02:15:30.391542Z"
    },
    "tags": []
   },
   "outputs": [
    {
     "name": "stdout",
     "output_type": "stream",
     "text": [
      "yo!\n"
     ]
    }
   ],
   "source": [
    "!sleep 3\n",
    "print(\"yo!\")"
   ]
  },
  {
   "cell_type": "markdown",
   "metadata": {
    "tags": []
   },
   "source": [
    "## Hello World"
   ]
  },
  {
   "cell_type": "raw",
   "metadata": {
    "execution": {
     "iopub.execute_input": "2021-03-27T02:29:48.597351Z",
     "iopub.status.busy": "2021-03-27T02:29:48.597122Z",
     "iopub.status.idle": "2021-03-27T02:29:48.602494Z",
     "shell.execute_reply": "2021-03-27T02:29:48.600860Z",
     "shell.execute_reply.started": "2021-03-27T02:29:48.597324Z"
    }
   },
   "source": [
    "Hello World"
   ]
  },
  {
   "cell_type": "code",
   "execution_count": null,
   "metadata": {},
   "outputs": [],
   "source": []
  }
 ],
 "metadata": {
  "kernelspec": {
   "display_name": "Python 3",
   "language": "python",
   "name": "python3"
  },
  "language_info": {
   "codemirror_mode": {
    "name": "ipython",
    "version": 3
   },
   "file_extension": ".py",
   "mimetype": "text/x-python",
   "name": "python",
   "nbconvert_exporter": "python",
   "pygments_lexer": "ipython3",
   "version": "3.7.10"
  }
 },
 "nbformat": 4,
 "nbformat_minor": 4
}
