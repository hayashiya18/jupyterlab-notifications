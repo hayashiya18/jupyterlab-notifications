{
 "cells": [
  {
   "cell_type": "code",
   "execution_count": 7,
   "id": "emerging-communications",
   "metadata": {},
   "outputs": [
    {
     "name": "stdout",
     "output_type": "stream",
     "text": [
      "WWWHWWWWHy\n"
     ]
    },
    {
     "data": {
      "application/javascript": [
       "if (!('Notification' in window)) {\n",
       "    alert(\"This browser does not support notifications.\");\n",
       "} else if (Notification.permission !== 'granted') {\n",
       "    Notification.requestPermission().then(function(result) {\n",
       "        if (result == 'granted') {\n",
       "            alert(\"Browser Notifications are allowed. You can use the %notify magic command now. (^_^)b\");\n",
       "        } else {\n",
       "            alert(\"Browser Notifications are not allowed. Please update your browser settings to allow notifications.\");\n",
       "        }\n",
       "    });\n",
       "}\n"
      ],
      "text/plain": [
       "<IPython.core.display.Javascript object>"
      ]
     },
     "metadata": {},
     "output_type": "display_data"
    }
   ],
   "source": [
    "%reload_ext jupyterlab_notification"
   ]
  },
  {
   "cell_type": "code",
   "execution_count": 1,
   "id": "static-engine",
   "metadata": {},
   "outputs": [
    {
     "name": "stdout",
     "output_type": "stream",
     "text": [
      "complete!\n"
     ]
    },
    {
     "data": {
      "application/javascript": [
       "// TODO Check if permission is not granted\n",
       "// TODO request Permissions\n",
       "var notificationPayload = {'icon': '/static/favicon.ico', 'body': \"'hello world!'\"};\n",
       "var notification = new Notification('JupyterLab', notificationPayload);\n"
      ],
      "text/plain": [
       "<IPython.core.display.Javascript object>"
      ]
     },
     "metadata": {},
     "output_type": "display_data"
    }
   ],
   "source": [
    "%%notify -m 'hello world!'\n",
    "import time\n",
    "\n",
    "time.sleep(5)\n",
    "print(\"complete!\")"
   ]
  },
  {
   "cell_type": "code",
   "execution_count": null,
   "id": "accessible-consistency",
   "metadata": {},
   "outputs": [],
   "source": []
  }
 ],
 "metadata": {
  "kernelspec": {
   "display_name": "Python 3",
   "language": "python",
   "name": "python3"
  },
  "language_info": {
   "codemirror_mode": {
    "name": "ipython",
    "version": 3
   },
   "file_extension": ".py",
   "mimetype": "text/x-python",
   "name": "python",
   "nbconvert_exporter": "python",
   "pygments_lexer": "ipython3",
   "version": "3.8.5"
  }
 },
 "nbformat": 4,
 "nbformat_minor": 5
}
