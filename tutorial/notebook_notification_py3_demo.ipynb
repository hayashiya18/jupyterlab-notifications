{
 "cells": [
  {
   "cell_type": "code",
   "execution_count": 1,
   "metadata": {
    "execution": {
     "iopub.execute_input": "2021-06-18T16:13:11.410779Z",
     "iopub.status.busy": "2021-06-18T16:13:11.410414Z",
     "iopub.status.idle": "2021-06-18T16:13:11.423394Z",
     "shell.execute_reply": "2021-06-18T16:13:11.422189Z",
     "shell.execute_reply.started": "2021-06-18T16:13:11.410668Z"
    },
    "tags": []
   },
   "outputs": [
    {
     "name": "stdout",
     "output_type": "stream",
     "text": [
      "hello world!\n"
     ]
    }
   ],
   "source": [
    "print(\"hello world!\")"
   ]
  },
  {
   "cell_type": "code",
   "execution_count": 5,
   "metadata": {
    "execution": {
     "iopub.execute_input": "2021-06-18T16:23:33.407046Z",
     "iopub.status.busy": "2021-06-18T16:23:33.406829Z",
     "iopub.status.idle": "2021-06-18T16:23:36.529019Z",
     "shell.execute_reply": "2021-06-18T16:23:36.528045Z",
     "shell.execute_reply.started": "2021-06-18T16:23:33.407023Z"
    }
   },
   "outputs": [
    {
     "name": "stdout",
     "output_type": "stream",
     "text": [
      "hello!\n"
     ]
    }
   ],
   "source": [
    "!sleep 3\n",
    "print(\"hello!\")"
   ]
  },
  {
   "cell_type": "code",
   "execution_count": 6,
   "metadata": {
    "execution": {
     "iopub.execute_input": "2021-06-18T16:23:46.212426Z",
     "iopub.status.busy": "2021-06-18T16:23:46.212217Z",
     "iopub.status.idle": "2021-06-18T16:24:52.337429Z",
     "shell.execute_reply": "2021-06-18T16:24:52.336762Z",
     "shell.execute_reply.started": "2021-06-18T16:23:46.212401Z"
    },
    "tags": []
   },
   "outputs": [
    {
     "name": "stdout",
     "output_type": "stream",
     "text": [
      "hello world!\n"
     ]
    }
   ],
   "source": [
    "!sleep 66\n",
    "print(\"hello world!\")"
   ]
  },
  {
   "cell_type": "code",
   "execution_count": 5,
   "metadata": {
    "execution": {
     "iopub.execute_input": "2021-04-20T02:52:03.751413Z",
     "iopub.status.busy": "2021-04-20T02:52:03.751066Z",
     "iopub.status.idle": "2021-04-20T02:52:07.882434Z",
     "shell.execute_reply": "2021-04-20T02:52:07.881588Z",
     "shell.execute_reply.started": "2021-04-20T02:52:03.751375Z"
    },
    "tags": []
   },
   "outputs": [],
   "source": [
    "!sleep 4"
   ]
  },
  {
   "cell_type": "markdown",
   "metadata": {},
   "source": [
    "## Hello World"
   ]
  },
  {
   "cell_type": "raw",
   "metadata": {
    "execution": {
     "iopub.execute_input": "2021-03-27T02:29:48.597351Z",
     "iopub.status.busy": "2021-03-27T02:29:48.597122Z",
     "iopub.status.idle": "2021-03-27T02:29:48.602494Z",
     "shell.execute_reply": "2021-03-27T02:29:48.600860Z",
     "shell.execute_reply.started": "2021-03-27T02:29:48.597324Z"
    }
   },
   "source": [
    "<h1>Hello World</h1>"
   ]
  },
  {
   "cell_type": "code",
   "execution_count": null,
   "metadata": {},
   "outputs": [],
   "source": []
  },
  {
   "cell_type": "code",
   "execution_count": null,
   "metadata": {},
   "outputs": [],
   "source": []
  },
  {
   "cell_type": "code",
   "execution_count": null,
   "metadata": {},
   "outputs": [],
   "source": []
  },
  {
   "cell_type": "code",
   "execution_count": null,
   "metadata": {},
   "outputs": [],
   "source": []
  }
 ],
 "metadata": {
  "kernelspec": {
   "display_name": "Python 3",
   "language": "python",
   "name": "python3"
  },
  "language_info": {
   "codemirror_mode": {
    "name": "ipython",
    "version": 3
   },
   "file_extension": ".py",
   "mimetype": "text/x-python",
   "name": "python",
   "nbconvert_exporter": "python",
   "pygments_lexer": "ipython3",
   "version": "3.8.5"
  }
 },
 "nbformat": 4,
 "nbformat_minor": 4
}
