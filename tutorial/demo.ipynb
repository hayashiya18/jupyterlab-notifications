{
 "cells": [
  {
   "cell_type": "code",
   "execution_count": 13,
   "metadata": {
    "execution": {
     "iopub.execute_input": "2021-03-27T03:06:18.533459Z",
     "iopub.status.busy": "2021-03-27T03:06:18.533220Z",
     "iopub.status.idle": "2021-03-27T03:06:18.537331Z",
     "shell.execute_reply": "2021-03-27T03:06:18.536387Z",
     "shell.execute_reply.started": "2021-03-27T03:06:18.533425Z"
    },
    "tags": []
   },
   "outputs": [
    {
     "name": "stdout",
     "output_type": "stream",
     "text": [
      "hello world!\n"
     ]
    }
   ],
   "source": [
    "print(\"hello world!\")"
   ]
  },
  {
   "cell_type": "code",
   "execution_count": 14,
   "metadata": {
    "execution": {
     "iopub.execute_input": "2021-03-27T03:06:19.213426Z",
     "iopub.status.busy": "2021-03-27T03:06:19.213237Z",
     "iopub.status.idle": "2021-03-27T03:06:22.337638Z",
     "shell.execute_reply": "2021-03-27T03:06:22.336868Z",
     "shell.execute_reply.started": "2021-03-27T03:06:19.213404Z"
    },
    "tags": []
   },
   "outputs": [
    {
     "name": "stdout",
     "output_type": "stream",
     "text": [
      "hello world!\n"
     ]
    }
   ],
   "source": [
    "!sleep 3\n",
    "print(\"hello world!\")"
   ]
  },
  {
   "cell_type": "markdown",
   "metadata": {},
   "source": [
    "## Hello World"
   ]
  },
  {
   "cell_type": "raw",
   "metadata": {
    "execution": {
     "iopub.execute_input": "2021-03-27T02:29:48.597351Z",
     "iopub.status.busy": "2021-03-27T02:29:48.597122Z",
     "iopub.status.idle": "2021-03-27T02:29:48.602494Z",
     "shell.execute_reply": "2021-03-27T02:29:48.600860Z",
     "shell.execute_reply.started": "2021-03-27T02:29:48.597324Z"
    }
   },
   "source": [
    "<h1>Hello World</h1>"
   ]
  },
  {
   "cell_type": "code",
   "execution_count": null,
   "metadata": {},
   "outputs": [],
   "source": []
  },
  {
   "cell_type": "code",
   "execution_count": null,
   "metadata": {},
   "outputs": [],
   "source": []
  },
  {
   "cell_type": "code",
   "execution_count": null,
   "metadata": {},
   "outputs": [],
   "source": []
  },
  {
   "cell_type": "code",
   "execution_count": null,
   "metadata": {},
   "outputs": [],
   "source": []
  }
 ],
 "metadata": {
  "kernelspec": {
   "display_name": "Python 3",
   "language": "python",
   "name": "python3"
  },
  "language_info": {
   "codemirror_mode": {
    "name": "ipython",
    "version": 3
   },
   "file_extension": ".py",
   "mimetype": "text/x-python",
   "name": "python",
   "nbconvert_exporter": "python",
   "pygments_lexer": "ipython3",
   "version": "3.7.10"
  }
 },
 "nbformat": 4,
 "nbformat_minor": 4
}
