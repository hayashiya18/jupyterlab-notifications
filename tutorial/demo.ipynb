{
 "cells": [
  {
   "cell_type": "code",
   "execution_count": 18,
   "metadata": {
    "execution": {
     "iopub.execute_input": "2021-03-19T03:37:14.667688Z",
     "iopub.status.busy": "2021-03-19T03:37:14.667455Z",
     "iopub.status.idle": "2021-03-19T03:37:14.671324Z",
     "shell.execute_reply": "2021-03-19T03:37:14.670402Z",
     "shell.execute_reply.started": "2021-03-19T03:37:14.667662Z"
    },
    "tags": []
   },
   "outputs": [
    {
     "name": "stdout",
     "output_type": "stream",
     "text": [
      "hello world!\n"
     ]
    }
   ],
   "source": [
    "print(\"hello world!\")"
   ]
  },
  {
   "cell_type": "code",
   "execution_count": 19,
   "metadata": {
    "execution": {
     "iopub.execute_input": "2021-03-19T03:37:16.906751Z",
     "iopub.status.busy": "2021-03-19T03:37:16.906516Z",
     "iopub.status.idle": "2021-03-19T03:37:20.035526Z",
     "shell.execute_reply": "2021-03-19T03:37:20.034900Z",
     "shell.execute_reply.started": "2021-03-19T03:37:16.906728Z"
    },
    "tags": []
   },
   "outputs": [
    {
     "name": "stdout",
     "output_type": "stream",
     "text": [
      "hello world!\n"
     ]
    }
   ],
   "source": [
    "!sleep 3\n",
    "print(\"hello world!\")"
   ]
  },
  {
   "cell_type": "code",
   "execution_count": null,
   "metadata": {},
   "outputs": [],
   "source": []
  }
 ],
 "metadata": {
  "kernelspec": {
   "display_name": "Python 3",
   "language": "python",
   "name": "python3"
  },
  "language_info": {
   "codemirror_mode": {
    "name": "ipython",
    "version": 3
   },
   "file_extension": ".py",
   "mimetype": "text/x-python",
   "name": "python",
   "nbconvert_exporter": "python",
   "pygments_lexer": "ipython3",
   "version": "3.8.5"
  }
 },
 "nbformat": 4,
 "nbformat_minor": 4
}
