{
 "cells": [
  {
   "cell_type": "code",
   "execution_count": 7,
   "id": "e80893c2-fa00-440a-baf9-ac49aad29be5",
   "metadata": {
    "execution": {
     "iopub.execute_input": "2021-04-19T20:53:28.895000-06:00",
     "iopub.status.busy": "2021-04-19T20:53:28.895000-06:00",
     "iopub.status.idle": "2021-04-19T20:53:32.912000-06:00",
     "shell.execute_reply": "2021-04-19T20:53:32.911000-06:00"
    },
    "tags": []
   },
   "outputs": [
    {
     "name": "stdout",
     "output_type": "stream",
     "text": [
      "hello world!"
     ]
    }
   ],
   "source": [
    "sleep(4)\n",
    "print(\"hello world!\")"
   ]
  },
  {
   "cell_type": "code",
   "execution_count": null,
   "id": "90628a40-aae7-4b1d-a17a-5f03bea0aebf",
   "metadata": {},
   "outputs": [],
   "source": []
  }
 ],
 "metadata": {
  "kernelspec": {
   "display_name": "Julia 1.6.0",
   "language": "julia",
   "name": "julia-1.6"
  },
  "language_info": {
   "file_extension": ".jl",
   "mimetype": "application/julia",
   "name": "julia",
   "version": "1.6.0"
  }
 },
 "nbformat": 4,
 "nbformat_minor": 5
}
